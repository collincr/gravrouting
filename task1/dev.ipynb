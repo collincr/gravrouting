{
 "cells": [
  {
   "cell_type": "code",
   "execution_count": 1,
   "metadata": {
    "scrolled": false
   },
   "outputs": [
    {
     "name": "stdout",
     "output_type": "stream",
     "text": [
      "X, in feet1                             2.346679e+06\n",
      "Y, in feet1                             2.516440e+05\n",
      "Change in gravity (∆G), in milliGals    2.283900e+00\n",
      "Name: B-14, dtype: float64 \n",
      "\n",
      " X, in feet1                             2.330512e+06\n",
      "Y, in feet1                             2.414830e+05\n",
      "Change in gravity (∆G), in milliGals    3.744723e+01\n",
      "Name: B-15, dtype: float64\n"
     ]
    }
   ],
   "source": [
    "import pandas as pd\n",
    "\n",
    "# making data frame from csv file\n",
    "df = pd.read_csv(\"../data/ofr20181053_table1.csv\", index_col =\"Station\")\n",
    " \n",
    "# retrieving row by loc method\n",
    "first = df.loc[\"B-14\"]\n",
    "second = df.loc[\"B-15\"]\n",
    "\n",
    "print(first, \"\\n\\n\", second)"
   ]
  },
  {
   "cell_type": "code",
   "execution_count": 2,
   "metadata": {
    "scrolled": true
   },
   "outputs": [
    {
     "name": "stdout",
     "output_type": "stream",
     "text": [
      "         X, in feet1  Y, in feet1  Change in gravity (∆G), in milliGals\n",
      "Station                                                                \n",
      "B-14         2346679       251644                              2.283900\n",
      "B-15         2330512       241483                             37.447230\n",
      "CER1         2358202       259877                              8.025276\n",
      "CER15        2353877       260288                             -6.151253\n",
      "COSO2        2330960       268320                              7.194520\n"
     ]
    }
   ],
   "source": [
    "print(df.head())"
   ]
  },
  {
   "cell_type": "code",
   "execution_count": 3,
   "metadata": {},
   "outputs": [],
   "source": [
    "import geopandas as gpd\n",
    "from shapely.geometry import Point\n",
    "\n",
    "# creating a geometry column \n",
    "geometry = [Point(xy) for xy in zip(df['X, in feet1'], df['Y, in feet1'])]\n",
    "\n",
    "# Coordinate reference system : WGS84\n",
    "crs = '+proj=lcc +lat_1=36 +lat_2=37.25 +lat_0=35.33333333333334 +lon_0=-119 +x_0=609601.2192024384 +y_0=0 +datum=NAD27 +units=us-ft +no_defs'\n",
    "\n",
    "# Creating a Geographic data frame \n",
    "gdf = gpd.GeoDataFrame(df, crs=crs, geometry=geometry)"
   ]
  },
  {
   "cell_type": "code",
   "execution_count": 4,
   "metadata": {
    "scrolled": false
   },
   "outputs": [
    {
     "name": "stdout",
     "output_type": "stream",
     "text": [
      "         X, in feet1  Y, in feet1  Change in gravity (∆G), in milliGals  \\\n",
      "Station                                                                   \n",
      "B-14         2346679       251644                              2.283900   \n",
      "B-15         2330512       241483                             37.447230   \n",
      "CER1         2358202       259877                              8.025276   \n",
      "CER15        2353877       260288                             -6.151253   \n",
      "COSO2        2330960       268320                              7.194520   \n",
      "\n",
      "                       geometry  \n",
      "Station                          \n",
      "B-14     POINT (2346679 251644)  \n",
      "B-15     POINT (2330512 241483)  \n",
      "CER1     POINT (2358202 259877)  \n",
      "CER15    POINT (2353877 260288)  \n",
      "COSO2    POINT (2330960 268320)  \n"
     ]
    }
   ],
   "source": [
    "print(gdf.head())"
   ]
  },
  {
   "cell_type": "code",
   "execution_count": 5,
   "metadata": {},
   "outputs": [
    {
     "name": "stdout",
     "output_type": "stream",
     "text": [
      "         X, in feet1  Y, in feet1  Change in gravity (∆G), in milliGals  \\\n",
      "Station                                                                   \n",
      "B-14         2346679       251644                              2.283900   \n",
      "B-15         2330512       241483                             37.447230   \n",
      "CER1         2358202       259877                              8.025276   \n",
      "CER15        2353877       260288                             -6.151253   \n",
      "COSO2        2330960       268320                              7.194520   \n",
      "\n",
      "                                            geometry  \n",
      "Station                                               \n",
      "B-14     POINT (425331.1561310743 3986342.561657313)  \n",
      "B-15     POINT (420342.0067203438 3983349.091962917)  \n",
      "CER1     POINT (428893.4283535541 3988777.925269071)  \n",
      "CER15    POINT (427578.4642187392 3988930.423427749)  \n",
      "COSO2    POINT (420647.6834405417 3991521.872500391)  \n"
     ]
    }
   ],
   "source": [
    "gdf = gdf.to_crs('+proj=utm +zone=11 +datum=WGS84')\n",
    "print(gdf.head())"
   ]
  },
  {
   "cell_type": "code",
   "execution_count": 7,
   "metadata": {
    "scrolled": false
   },
   "outputs": [
    {
     "data": {
      "image/png": "[encoded data removed]",
      "text/plain": [
       "<Figure size 432x288 with 1 Axes>"
      ]
     },
     "metadata": {
      "needs_background": "light"
     },
     "output_type": "display_data"
    }
   ],
   "source": [
    "import matplotlib.pyplot as plt\n",
    "gdf.plot(marker='o', color='b', markersize=0.5)\n",
    "plt.show()"
   ]
  },
  {
   "cell_type": "code",
   "execution_count": null,
   "metadata": {},
   "outputs": [],
   "source": []
  },
  {
   "cell_type": "code",
   "execution_count": null,
   "metadata": {},
   "outputs": [],
   "source": []
  }
 ],
 "metadata": {
  "kernelspec": {
   "display_name": "Python 3",
   "language": "python",
   "name": "python3"
  },
  "language_info": {
   "codemirror_mode": {
    "name": "ipython",
    "version": 3
   },
   "file_extension": ".py",
   "mimetype": "text/x-python",
   "name": "python",
   "nbconvert_exporter": "python",
   "pygments_lexer": "ipython3",
   "version": "3.7.3"
  }
 },
 "nbformat": 4,
 "nbformat_minor": 2
}
