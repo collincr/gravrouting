{
 "cells": [
  {
   "cell_type": "code",
   "execution_count": 1,
   "metadata": {
    "scrolled": true
   },
   "outputs": [
    {
     "name": "stdout",
     "output_type": "stream",
     "text": [
      "X, in feet1                             2.346679e+06\n",
      "Y, in feet1                             2.516440e+05\n",
      "Change in gravity (∆G), in milliGals    2.283900e+00\n",
      "Name: B-14, dtype: float64 \n",
      "\n",
      " X, in feet1                             2.330512e+06\n",
      "Y, in feet1                             2.414830e+05\n",
      "Change in gravity (∆G), in milliGals    3.744723e+01\n",
      "Name: B-15, dtype: float64\n"
     ]
    }
   ],
   "source": [
    "# import pandas as pd\n",
    "import pandas as pd\n",
    "\n",
    "# making data frame from csv file\n",
    "df = pd.read_csv(\"../data/ofr20181053_table1.csv\", index_col =\"Station\")\n",
    " \n",
    "# retrieving row by loc method\n",
    "first = df.loc[\"B-14\"]\n",
    "second = df.loc[\"B-15\"]\n",
    "\n",
    "print(first, \"\\n\\n\", second)"
   ]
  },
  {
   "cell_type": "code",
   "execution_count": 2,
   "metadata": {},
   "outputs": [
    {
     "name": "stdout",
     "output_type": "stream",
     "text": [
      "<bound method NDFrame.head of          X, in feet1  Y, in feet1  Change in gravity (∆G), in milliGals\n",
      "Station                                                                \n",
      "B-14         2346679       251644                              2.283900\n",
      "B-15         2330512       241483                             37.447230\n",
      "CER1         2358202       259877                              8.025276\n",
      "CER15        2353877       260288                             -6.151253\n",
      "COSO2        2330960       268320                              7.194520\n",
      "COSO3        2349818       266094                            -24.877735\n",
      "CS1          2342409       251235                             29.110361\n",
      "CS10         2364359       251561                             32.488842\n",
      "CS11         2365834       247856                             36.654775\n",
      "CS12         2365708       243486                             55.095765\n",
      "CS13         2364606       238617                             68.774977\n",
      "CS14         2346594       234447                            -47.607534\n",
      "CS15         2347906       237574                            -42.188009\n",
      "CS16         2357741       245372                              5.727166\n",
      "CS17         2354567       247230                              1.494758\n",
      "CS18         2360343       250819                             17.829863\n",
      "CS19         2355426       252272                              7.913358\n",
      "CS20         2350065       249624                             -2.729628\n",
      "CS21         2350124       260639                             -6.347205\n",
      "CS22         2344933       261877                             -4.329939\n",
      "CS23         2343537       258156                             -0.749170\n",
      "CS24         2340551       263754                            -12.075345\n",
      "CS25         2335681       266955                              0.000000\n",
      "CS26         2328934       265923                             16.300831\n",
      "CS28         2353345       271263                            -48.427628\n",
      "CS29         2347701       277565                            -56.197340\n",
      "CS3          2368659       269038                             19.323768\n",
      "CS30         2349671       283786                            -62.055728\n",
      "CS31         2353638       264066                            -17.382587\n",
      "CS34         2372447       258439                             22.192667\n",
      "...              ...          ...                                   ...\n",
      "RE13         2352816       251691                              0.897697\n",
      "RE14         2353008       249717                              0.025728\n",
      "RE15         2352711       245901                              1.932128\n",
      "RE16         2351984       242689                            -15.950018\n",
      "RE2          2353497       261928                            -16.488706\n",
      "RE20         2358654       245236                              7.861689\n",
      "RE21         2360846       245403                             19.039533\n",
      "RE25         2362034       250737                             24.558713\n",
      "RE27A        2363669       254916                             24.107119\n",
      "RE30         2360442       253617                             12.096583\n",
      "RE31         2357390       253980                              7.551585\n",
      "RE32         2356301       253157                              0.665201\n",
      "RE33         2367252       245057                             52.429874\n",
      "RE34         2354534       251370                             -3.263975\n",
      "RE35         2353631       260441                             -8.615148\n",
      "RE36         2361814       261093                             18.731400\n",
      "RE37         2358274       257224                            -10.312323\n",
      "RE39         2350722       264326                            -14.890917\n",
      "RE4          2357683       259802                              6.426135\n",
      "RE40         2350847       266261                            -24.216148\n",
      "RE5          2353796       259481                             -3.346724\n",
      "RE7          2352962       257949                             -5.931484\n",
      "RE8          2354116       256866                            -16.164458\n",
      "RE9          2357181       255983                            -14.812295\n",
      "SLME         2352014       256800                            -10.001963\n",
      "VOLPK        2349859       229185                            -35.264673\n",
      "ZAP15         260808      2351206                            -22.355395\n",
      "ZAP2         2348626       256194                            -73.866662\n",
      "ZAP28        2354310       244906                            -31.582897\n",
      "ZAP29        2348422       245551                            -15.699867\n",
      "\n",
      "[103 rows x 3 columns]>\n"
     ]
    }
   ],
   "source": [
    "print(df.head)"
   ]
  },
  {
   "cell_type": "code",
   "execution_count": null,
   "metadata": {},
   "outputs": [],
   "source": []
  },
  {
   "cell_type": "code",
   "execution_count": null,
   "metadata": {},
   "outputs": [],
   "source": []
  },
  {
   "cell_type": "code",
   "execution_count": null,
   "metadata": {},
   "outputs": [],
   "source": []
  },
  {
   "cell_type": "code",
   "execution_count": null,
   "metadata": {},
   "outputs": [],
   "source": []
  },
  {
   "cell_type": "code",
   "execution_count": null,
   "metadata": {},
   "outputs": [],
   "source": []
  },
  {
   "cell_type": "code",
   "execution_count": null,
   "metadata": {},
   "outputs": [],
   "source": []
  }
 ],
 "metadata": {
  "kernelspec": {
   "display_name": "Python 3",
   "language": "python",
   "name": "python3"
  },
  "language_info": {
   "codemirror_mode": {
    "name": "ipython",
    "version": 3
   },
   "file_extension": ".py",
   "mimetype": "text/x-python",
   "name": "python",
   "nbconvert_exporter": "python",
   "pygments_lexer": "ipython3",
   "version": "3.7.3"
  }
 },
 "nbformat": 4,
 "nbformat_minor": 2
}
